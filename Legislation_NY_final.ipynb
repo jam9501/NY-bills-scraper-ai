{
 "cells": [
  {
   "cell_type": "code",
   "execution_count": 26,
   "id": "a32ee249-829c-455c-b07e-38656aed5da3",
   "metadata": {},
   "outputs": [],
   "source": [
    "from tqdm.auto import tqdm"
   ]
  },
  {
   "cell_type": "code",
   "execution_count": 28,
   "id": "3dc0224a-3e0c-4367-a25d-5c4009c18250",
   "metadata": {},
   "outputs": [
    {
     "name": "stdout",
     "output_type": "stream",
     "text": [
      "Requirement already satisfied: openai in ./.pyenv/versions/3.11.8/lib/python3.11/site-packages (1.37.0)\n",
      "Requirement already satisfied: anyio<5,>=3.5.0 in ./.pyenv/versions/3.11.8/lib/python3.11/site-packages (from openai) (4.4.0)\n",
      "Requirement already satisfied: distro<2,>=1.7.0 in ./.pyenv/versions/3.11.8/lib/python3.11/site-packages (from openai) (1.9.0)\n",
      "Requirement already satisfied: httpx<1,>=0.23.0 in ./.pyenv/versions/3.11.8/lib/python3.11/site-packages (from openai) (0.27.0)\n",
      "Requirement already satisfied: pydantic<3,>=1.9.0 in ./.pyenv/versions/3.11.8/lib/python3.11/site-packages (from openai) (2.8.2)\n",
      "Requirement already satisfied: sniffio in ./.pyenv/versions/3.11.8/lib/python3.11/site-packages (from openai) (1.3.1)\n",
      "Requirement already satisfied: tqdm>4 in ./.pyenv/versions/3.11.8/lib/python3.11/site-packages (from openai) (4.66.4)\n",
      "Requirement already satisfied: typing-extensions<5,>=4.7 in ./.pyenv/versions/3.11.8/lib/python3.11/site-packages (from openai) (4.12.1)\n",
      "Requirement already satisfied: idna>=2.8 in ./.pyenv/versions/3.11.8/lib/python3.11/site-packages (from anyio<5,>=3.5.0->openai) (3.7)\n",
      "Requirement already satisfied: certifi in ./.pyenv/versions/3.11.8/lib/python3.11/site-packages (from httpx<1,>=0.23.0->openai) (2024.6.2)\n",
      "Requirement already satisfied: httpcore==1.* in ./.pyenv/versions/3.11.8/lib/python3.11/site-packages (from httpx<1,>=0.23.0->openai) (1.0.5)\n",
      "Requirement already satisfied: h11<0.15,>=0.13 in ./.pyenv/versions/3.11.8/lib/python3.11/site-packages (from httpcore==1.*->httpx<1,>=0.23.0->openai) (0.14.0)\n",
      "Requirement already satisfied: annotated-types>=0.4.0 in ./.pyenv/versions/3.11.8/lib/python3.11/site-packages (from pydantic<3,>=1.9.0->openai) (0.7.0)\n",
      "Requirement already satisfied: pydantic-core==2.20.1 in ./.pyenv/versions/3.11.8/lib/python3.11/site-packages (from pydantic<3,>=1.9.0->openai) (2.20.1)\n",
      "\n",
      "\u001b[1m[\u001b[0m\u001b[34;49mnotice\u001b[0m\u001b[1;39;49m]\u001b[0m\u001b[39;49m A new release of pip is available: \u001b[0m\u001b[31;49m24.1.2\u001b[0m\u001b[39;49m -> \u001b[0m\u001b[32;49m24.2\u001b[0m\n",
      "\u001b[1m[\u001b[0m\u001b[34;49mnotice\u001b[0m\u001b[1;39;49m]\u001b[0m\u001b[39;49m To update, run: \u001b[0m\u001b[32;49mpip install --upgrade pip\u001b[0m\n"
     ]
    }
   ],
   "source": [
    "!pip install openai"
   ]
  },
  {
   "cell_type": "code",
   "execution_count": 29,
   "id": "5dd1429e-2221-4259-b0b7-f06b7205e113",
   "metadata": {},
   "outputs": [
    {
     "data": {
      "application/vnd.jupyter.widget-view+json": {
       "model_id": "42cc970fe7464f9e8ab33eaaf8a312f9",
       "version_major": 2,
       "version_minor": 0
      },
      "text/plain": [
       "  0%|          | 0/50 [00:00<?, ?it/s]"
      ]
     },
     "metadata": {},
     "output_type": "display_data"
    }
   ],
   "source": [
    "tqdm.pandas()\n",
    "\n",
    "df['title'] = df['url'].progress_apply(get_title)"
   ]
  },
  {
   "cell_type": "code",
   "execution_count": 43,
   "id": "35ade9f9-3056-4366-85d4-e886e453d141",
   "metadata": {},
   "outputs": [],
   "source": [
    "\n",
    "import pandas as pd\n",
    "data = pd.read_excel('/Users/ainsleymartinez/Downloads/Legislation_NY/Bills_NY.xlsx')\n"
   ]
  },
  {
   "cell_type": "code",
   "execution_count": 44,
   "id": "92502193-df0f-4fa1-8992-3cc6fe9eff6f",
   "metadata": {},
   "outputs": [],
   "source": [
    "\n",
    "descriptions = data['Description'].dropna()\n"
   ]
  },
  {
   "cell_type": "code",
   "execution_count": 1,
   "id": "09fe2d8b-4706-4d87-9862-cd3b6ab204eb",
   "metadata": {},
   "outputs": [
    {
     "name": "stdout",
     "output_type": "stream",
     "text": [
      "Requirement already satisfied: tqdm in ./.pyenv/versions/3.11.8/lib/python3.11/site-packages (4.66.4)\n",
      "\n",
      "\u001b[1m[\u001b[0m\u001b[34;49mnotice\u001b[0m\u001b[1;39;49m]\u001b[0m\u001b[39;49m A new release of pip is available: \u001b[0m\u001b[31;49m24.1.2\u001b[0m\u001b[39;49m -> \u001b[0m\u001b[32;49m24.2\u001b[0m\n",
      "\u001b[1m[\u001b[0m\u001b[34;49mnotice\u001b[0m\u001b[1;39;49m]\u001b[0m\u001b[39;49m To update, run: \u001b[0m\u001b[32;49mpip install --upgrade pip\u001b[0m\n",
      "Note: you may need to restart the kernel to use updated packages.\n"
     ]
    }
   ],
   "source": [
    "pip install tqdm"
   ]
  },
  {
   "cell_type": "code",
   "execution_count": 5,
   "id": "38d077b7-6403-4c0f-a8eb-c67c56b5df62",
   "metadata": {},
   "outputs": [
    {
     "name": "stdout",
     "output_type": "stream",
     "text": [
      "Columns: Index(['Bill Number', 'Description', 'Sponsor Name', 'Sponsor Party',\n",
      "       'Passed Date', 'Ayes', 'Nays'],\n",
      "      dtype='object')\n"
     ]
    },
    {
     "name": "stderr",
     "output_type": "stream",
     "text": [
      "Categorizing Descriptions: 100%|██████████████| 674/674 [10:21<00:00,  1.08it/s]"
     ]
    },
    {
     "name": "stdout",
     "output_type": "stream",
     "text": [
      "Categorized data saved to categorized_legislation_bills.xlsx\n"
     ]
    },
    {
     "name": "stderr",
     "output_type": "stream",
     "text": [
      "\n"
     ]
    }
   ],
   "source": [
    "import os\n",
    "from openai import OpenAI\n",
    "import pandas as pd\n",
    "from tqdm import tqdm\n",
    "\n",
    "client = OpenAI(\n",
    "    api_key= \"secret\"\n",
    ")\n",
    "\n",
    "def categorize_description(description):\n",
    "    prompt = f\"\"\"\n",
    "    Please categorize the following legislative description by political issue or topic:\n",
    "    \n",
    "    DESCRIPTION:\n",
    "    \n",
    "    {description}\n",
    "    \"\"\"\n",
    "    \n",
    "    chat_completion = client.chat.completions.create(\n",
    "        messages=[{ \"role\": \"user\", \"content\": prompt }],\n",
    "        model=\"gpt-4\",\n",
    "    )\n",
    "    \n",
    "    return chat_completion.choices[0].message.content.strip()\n",
    "\n",
    "def main():\n",
    "    file_path = '/Users/ainsleymartinez/Downloads/Legislation_NY/Bills_NY.xlsx'\n",
    "    data = pd.read_excel(file_path)\n",
    "\n",
    "    print(\"Columns:\", data.columns)\n",
    "\n",
    "\n",
    "    descriptions = data['Description'].dropna()\n",
    "\n",
    "  \n",
    "    tqdm.pandas(desc=\"Categorizing Descriptions\")\n",
    "    data['Category'] = descriptions.progress_apply(categorize_description)\n",
    "\n",
    "    output_file_path = 'categorized_legislation_bills.xlsx'\n",
    "    data.to_excel(output_file_path, index=False)\n",
    "    print(f\"Categorized data saved to {output_file_path}\")\n",
    "\n",
    "if __name__ == \"__main__\":\n",
    "    main()\n"
   ]
  },
  {
   "cell_type": "code",
   "execution_count": null,
   "id": "c965acdc-1eda-482a-ac7d-04cdc8823992",
   "metadata": {},
   "outputs": [],
   "source": []
  }
 ],
 "metadata": {
  "kernelspec": {
   "display_name": "Python 3 (ipykernel)",
   "language": "python",
   "name": "python3"
  },
  "language_info": {
   "codemirror_mode": {
    "name": "ipython",
    "version": 3
   },
   "file_extension": ".py",
   "mimetype": "text/x-python",
   "name": "python",
   "nbconvert_exporter": "python",
   "pygments_lexer": "ipython3",
   "version": "3.11.8"
  }
 },
 "nbformat": 4,
 "nbformat_minor": 5
}
